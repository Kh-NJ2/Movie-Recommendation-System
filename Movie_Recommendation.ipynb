{
 "cells": [
  {
   "cell_type": "markdown",
   "id": "f5e6cbc8-5166-46af-b2a7-86955e5de570",
   "metadata": {},
   "source": [
    "# Movie Recommendation System\n",
    "\n",
    "This notebook builds and evaluates two collaborative filtering models: User-Based and Item-Based."
   ]
  },
  {
   "cell_type": "markdown",
   "id": "f8abc419-7389-4195-8f51-f5b1e6428f9f",
   "metadata": {},
   "source": [
    "## 1. Imports"
   ]
  },
  {
   "cell_type": "code",
   "execution_count": 107,
   "id": "fb2077e0-483f-44c4-b534-d42e4198fe91",
   "metadata": {},
   "outputs": [],
   "source": [
    "import pandas as pd\n",
    "from sklearn.metrics.pairwise import cosine_similarity\n",
    "from sklearn.model_selection import train_test_split"
   ]
  },
  {
   "cell_type": "markdown",
   "id": "32c2aa50-91ba-497a-b264-4eedff98b269",
   "metadata": {},
   "source": [
    "## Configure Parameters"
   ]
  },
  {
   "cell_type": "code",
   "execution_count": 108,
   "id": "cc67dc7a-e932-49f3-8637-580e9f72d1e3",
   "metadata": {},
   "outputs": [],
   "source": [
    "test_user_id = 10    # The ID of the user to get recommendations for\n",
    "k = 10               # The number of movies to recommend"
   ]
  },
  {
   "cell_type": "markdown",
   "id": "d995a5a5-42ca-4ee0-9849-4af0b42929d2",
   "metadata": {},
   "source": [
    "## 2. Load Data\n",
    "\n",
    "Defining column names and loading the `u.data` and `u.item` files."
   ]
  },
  {
   "cell_type": "code",
   "execution_count": 109,
   "id": "af2ada7d-6f9b-46c6-b99b-1655c947d4b5",
   "metadata": {},
   "outputs": [],
   "source": [
    "r_cols = ['user_id', 'movie_id', 'rating', 'timestamp']\n",
    "\n",
    "m_cols = [\"movie_id\", \"title\", \"release date\", \"video release date\", \"IMDb URL\"] + [f\"genre_{i}\" for i in range(19)]\n",
    "\n",
    "ratings_df = pd.read_csv(\"u.data\", sep=\"\\t\", names=r_cols, encoding=\"latin-1\")\n",
    "movies_df = pd.read_csv(\"u.item\", sep=\"|\", names=m_cols, usecols=[\"movie_id\", \"title\"], encoding=\"latin-1\", index_col=\"movie_id\")"
   ]
  },
  {
   "cell_type": "markdown",
   "id": "f3a23cd3-2370-44fa-b8dc-f753519b2dcf",
   "metadata": {},
   "source": [
    "## 3. Inspect & Merge\n",
    "\n",
    "Printing the first few rows of the dataframes and then merging them into a single `df`."
   ]
  },
  {
   "cell_type": "code",
   "execution_count": 110,
   "id": "3d77539a-5cc3-488e-950e-28fd543e9483",
   "metadata": {},
   "outputs": [
    {
     "name": "stdout",
     "output_type": "stream",
     "text": [
      "RATINGS : \n",
      "-----------------------------------------------\n",
      "       user_id  movie_id  rating  timestamp\n",
      "0          196       242       3  881250949\n",
      "1          186       302       3  891717742\n",
      "2           22       377       1  878887116\n",
      "3          244        51       2  880606923\n",
      "4          166       346       1  886397596\n",
      "...        ...       ...     ...        ...\n",
      "99995      880       476       3  880175444\n",
      "99996      716       204       5  879795543\n",
      "99997      276      1090       1  874795795\n",
      "99998       13       225       2  882399156\n",
      "99999       12       203       3  879959583\n",
      "\n",
      "[100000 rows x 4 columns]\n",
      "\n",
      "\n",
      "MOVIES : \n",
      "------------------------------------------------\n",
      "                                              title\n",
      "movie_id                                           \n",
      "1                                  Toy Story (1995)\n",
      "2                                  GoldenEye (1995)\n",
      "3                                 Four Rooms (1995)\n",
      "4                                 Get Shorty (1995)\n",
      "5                                    Copycat (1995)\n",
      "...                                             ...\n",
      "1678                              Mat' i syn (1997)\n",
      "1679                               B. Monkey (1998)\n",
      "1680                           Sliding Doors (1998)\n",
      "1681                            You So Crazy (1994)\n",
      "1682      Scream of Stone (Schrei aus Stein) (1991)\n",
      "\n",
      "[1682 rows x 1 columns]\n",
      "\n",
      "\n",
      "MERGED : \n",
      "------------------------------------------------\n"
     ]
    },
    {
     "data": {
      "text/html": [
       "<div>\n",
       "<style scoped>\n",
       "    .dataframe tbody tr th:only-of-type {\n",
       "        vertical-align: middle;\n",
       "    }\n",
       "\n",
       "    .dataframe tbody tr th {\n",
       "        vertical-align: top;\n",
       "    }\n",
       "\n",
       "    .dataframe thead th {\n",
       "        text-align: right;\n",
       "    }\n",
       "</style>\n",
       "<table border=\"1\" class=\"dataframe\">\n",
       "  <thead>\n",
       "    <tr style=\"text-align: right;\">\n",
       "      <th></th>\n",
       "      <th>movie_id</th>\n",
       "      <th>title</th>\n",
       "      <th>user_id</th>\n",
       "      <th>rating</th>\n",
       "      <th>timestamp</th>\n",
       "    </tr>\n",
       "  </thead>\n",
       "  <tbody>\n",
       "    <tr>\n",
       "      <th>0</th>\n",
       "      <td>1</td>\n",
       "      <td>Toy Story (1995)</td>\n",
       "      <td>308</td>\n",
       "      <td>4</td>\n",
       "      <td>887736532</td>\n",
       "    </tr>\n",
       "    <tr>\n",
       "      <th>1</th>\n",
       "      <td>1</td>\n",
       "      <td>Toy Story (1995)</td>\n",
       "      <td>287</td>\n",
       "      <td>5</td>\n",
       "      <td>875334088</td>\n",
       "    </tr>\n",
       "    <tr>\n",
       "      <th>2</th>\n",
       "      <td>1</td>\n",
       "      <td>Toy Story (1995)</td>\n",
       "      <td>148</td>\n",
       "      <td>4</td>\n",
       "      <td>877019411</td>\n",
       "    </tr>\n",
       "    <tr>\n",
       "      <th>3</th>\n",
       "      <td>1</td>\n",
       "      <td>Toy Story (1995)</td>\n",
       "      <td>280</td>\n",
       "      <td>4</td>\n",
       "      <td>891700426</td>\n",
       "    </tr>\n",
       "    <tr>\n",
       "      <th>4</th>\n",
       "      <td>1</td>\n",
       "      <td>Toy Story (1995)</td>\n",
       "      <td>66</td>\n",
       "      <td>3</td>\n",
       "      <td>883601324</td>\n",
       "    </tr>\n",
       "    <tr>\n",
       "      <th>...</th>\n",
       "      <td>...</td>\n",
       "      <td>...</td>\n",
       "      <td>...</td>\n",
       "      <td>...</td>\n",
       "      <td>...</td>\n",
       "    </tr>\n",
       "    <tr>\n",
       "      <th>99995</th>\n",
       "      <td>1678</td>\n",
       "      <td>Mat' i syn (1997)</td>\n",
       "      <td>863</td>\n",
       "      <td>1</td>\n",
       "      <td>889289570</td>\n",
       "    </tr>\n",
       "    <tr>\n",
       "      <th>99996</th>\n",
       "      <td>1679</td>\n",
       "      <td>B. Monkey (1998)</td>\n",
       "      <td>863</td>\n",
       "      <td>3</td>\n",
       "      <td>889289491</td>\n",
       "    </tr>\n",
       "    <tr>\n",
       "      <th>99997</th>\n",
       "      <td>1680</td>\n",
       "      <td>Sliding Doors (1998)</td>\n",
       "      <td>863</td>\n",
       "      <td>2</td>\n",
       "      <td>889289570</td>\n",
       "    </tr>\n",
       "    <tr>\n",
       "      <th>99998</th>\n",
       "      <td>1681</td>\n",
       "      <td>You So Crazy (1994)</td>\n",
       "      <td>896</td>\n",
       "      <td>3</td>\n",
       "      <td>887160722</td>\n",
       "    </tr>\n",
       "    <tr>\n",
       "      <th>99999</th>\n",
       "      <td>1682</td>\n",
       "      <td>Scream of Stone (Schrei aus Stein) (1991)</td>\n",
       "      <td>916</td>\n",
       "      <td>3</td>\n",
       "      <td>880845755</td>\n",
       "    </tr>\n",
       "  </tbody>\n",
       "</table>\n",
       "<p>100000 rows × 5 columns</p>\n",
       "</div>"
      ],
      "text/plain": [
       "       movie_id                                      title  user_id  rating  \\\n",
       "0             1                           Toy Story (1995)      308       4   \n",
       "1             1                           Toy Story (1995)      287       5   \n",
       "2             1                           Toy Story (1995)      148       4   \n",
       "3             1                           Toy Story (1995)      280       4   \n",
       "4             1                           Toy Story (1995)       66       3   \n",
       "...         ...                                        ...      ...     ...   \n",
       "99995      1678                          Mat' i syn (1997)      863       1   \n",
       "99996      1679                           B. Monkey (1998)      863       3   \n",
       "99997      1680                       Sliding Doors (1998)      863       2   \n",
       "99998      1681                        You So Crazy (1994)      896       3   \n",
       "99999      1682  Scream of Stone (Schrei aus Stein) (1991)      916       3   \n",
       "\n",
       "       timestamp  \n",
       "0      887736532  \n",
       "1      875334088  \n",
       "2      877019411  \n",
       "3      891700426  \n",
       "4      883601324  \n",
       "...          ...  \n",
       "99995  889289570  \n",
       "99996  889289491  \n",
       "99997  889289570  \n",
       "99998  887160722  \n",
       "99999  880845755  \n",
       "\n",
       "[100000 rows x 5 columns]"
      ]
     },
     "execution_count": 110,
     "metadata": {},
     "output_type": "execute_result"
    }
   ],
   "source": [
    "print(f\"RATINGS : \\n-----------------------------------------------\\n{ratings_df}\\n\\n\")\n",
    "print(f\"MOVIES : \\n------------------------------------------------\\n{movies_df}\\n\\n\")\n",
    "print(\"MERGED : \\n------------------------------------------------\")\n",
    "df = pd.merge(movies_df, ratings_df, on=\"movie_id\")\n",
    "df"
   ]
  },
  {
   "cell_type": "markdown",
   "id": "c448f923-2553-4857-b113-fb22b1120c08",
   "metadata": {},
   "source": [
    "## 4. Configs & Train/Test Split\n",
    "\n",
    "Setting up the configuration variables (`test_user_id`, `K`) and splitting the main dataframe into training and testing sets."
   ]
  },
  {
   "cell_type": "markdown",
   "id": "f8a2b961-fad4-473a-9772-20ae2610aaee",
   "metadata": {},
   "source": [
    "## 5. Build User-Item Matrix (Training Data)\n",
    "\n",
    "Creating a user-item matrix using only the 75% training data."
   ]
  },
  {
   "cell_type": "markdown",
   "id": "9405dcfd-dd8d-4729-8466-87d160a3ebee",
   "metadata": {},
   "source": [
    "### Build User-Based Similarity Matrix & Item-Based Similarity Matrix (From Training Data)"
   ]
  },
  {
   "cell_type": "code",
   "execution_count": 111,
   "id": "b8ba3dbc-7b07-495e-8a28-ef4eba044ccc",
   "metadata": {},
   "outputs": [],
   "source": [
    "train_df, test_df = train_test_split(df, test_size= 0.25, random_state=42)\n",
    "train_user_item_matrix = train_df.pivot_table(index=\"user_id\", columns=\"title\", values=\"rating\")\n",
    "\n",
    "train_user_item_matrix.fillna(0, inplace=True)\n",
    "\n",
    "# user-based\n",
    "train_user_similarity = cosine_similarity(train_user_item_matrix)\n",
    "train_user_similarity_df = pd.DataFrame(train_user_similarity, index=train_user_item_matrix.index, columns=train_user_item_matrix.index)\n",
    "\n",
    "# item-based\n",
    "item_user_matrix = train_user_item_matrix.T\n",
    "item_similarity = cosine_similarity(item_user_matrix)\n",
    "item_similarity_df = pd.DataFrame(item_similarity, item_user_matrix.index, item_user_matrix.index)"
   ]
  },
  {
   "cell_type": "code",
   "execution_count": 112,
   "id": "c9b5c742-2c51-4534-afda-efe97a60224a",
   "metadata": {
    "scrolled": true
   },
   "outputs": [],
   "source": [
    "def get_user_based_recommendations(user_id, k):\n",
    "    similar_users = train_user_similarity_df[user_id].sort_values(ascending=False)[1:k+1]\n",
    "    user_ratings = train_user_item_matrix.loc[user_id]\n",
    "    movies_seen_by_user = user_ratings[user_ratings > 0].index\n",
    "    \n",
    "    recommendations = {}\n",
    "    for similar_user, score in similar_users.items():\n",
    "        similar_users_ratings = train_user_item_matrix.loc[similar_user]\n",
    "        seen_by_similar_users = similar_users_ratings[similar_users_ratings > 0]\n",
    "        high_ratings = seen_by_similar_users[seen_by_similar_users > 3]\n",
    "       \n",
    "        for movie, rating in high_ratings.items():\n",
    "            if movie not in movies_seen_by_user:\n",
    "                if movie not in recommendations:\n",
    "                    recommendations[movie] = 0\n",
    "                recommendations[movie] += score\n",
    "                \n",
    "    sorted_r = sorted(recommendations.items(), key=lambda item: item[1], reverse=True)\n",
    "    \n",
    "    return pd.DataFrame(sorted_r, columns=['Movie', 'Score']).head(k)"
   ]
  },
  {
   "cell_type": "code",
   "execution_count": 113,
   "id": "e9ac2d71-be46-4791-b13c-f30d47817b44",
   "metadata": {},
   "outputs": [],
   "source": [
    "def get_item_based_recommendations(user_id, k):\n",
    "    user_ratings = train_user_item_matrix.loc[user_id]\n",
    "    movies_seen = user_ratings[user_ratings > 0].index.tolist()\n",
    "    top_movies = user_ratings[user_ratings >= 4].index.tolist()\n",
    "\n",
    "    recommendations = {}\n",
    "    for movie in top_movies:\n",
    "        similar_movies = item_similarity_df[movie].sort_values(ascending=False)[1:k+1]\n",
    "\n",
    "        for s_movie, score in similar_movies.items():\n",
    "            if s_movie not in recommendations:\n",
    "                recommendations[s_movie] = 0\n",
    "            recommendations[s_movie] += score * user_ratings[movie]\n",
    "\n",
    "    r = {movie: score for movie, score in recommendations.items() if movie not in movies_seen}    \n",
    "    sorted_r = sorted(r.items(), key=lambda item: item[1], reverse=True)\n",
    "\n",
    "    return pd.DataFrame(sorted_r, columns=['Movie', 'Score']).head(k)"
   ]
  },
  {
   "cell_type": "code",
   "execution_count": 129,
   "id": "2e56295e-cc4d-4783-b586-bdeff783ec35",
   "metadata": {},
   "outputs": [],
   "source": [
    "def get_percision(user_based=\"user\"):\n",
    "    if user_based in [\"user\", \"user\"] :\n",
    "        r = get_user_based_recommendations(test_user_id, k)\n",
    "        m = \"User_based\"\n",
    "    else :    \n",
    "        r = get_item_based_recommendations(test_user_id, k)\n",
    "        m = \"Item_based\"\n",
    "    recommended_list = r[\"Movie\"].tolist()\n",
    "    \n",
    "    test_user_df = test_df[test_df[\"user_id\"] == test_user_id]\n",
    "    actual_list = test_user_df[test_user_df[\"rating\"] > 3][\"title\"].tolist()\n",
    "    \n",
    "    hits = [movie for movie in recommended_list if movie in actual_list]\n",
    "    num_hits = len(hits)\n",
    "    \n",
    "    precision = num_hits / k if k > 0 else 0.0 \n",
    "\n",
    "    print(f\"using {m}_Matrix : \\n---------------------\")\n",
    "    print(f\"Recs for User {test_user_id}: {recommended_list}\")\n",
    "    print(f\"\\nTrue Hits in Test Set: {actual_list}\\n\\nLen : {len(actual_list)}\")\n",
    "    print(f\"\\nHits: {num_hits}\")\n",
    "    print(f\"\\nPrecision@{k} for this user is: {precision:.0%}\\n---------------------------------------------------\\n\")"
   ]
  },
  {
   "cell_type": "code",
   "execution_count": 130,
   "id": "fb1bf709-2600-4da6-a526-4bdeb4f80d3d",
   "metadata": {},
   "outputs": [
    {
     "name": "stdout",
     "output_type": "stream",
     "text": [
      "using User_based_Matrix : \n",
      "---------------------\n",
      "Recs for User 10: ['North by Northwest (1959)', 'Taxi Driver (1976)', 'Dr. Strangelove or: How I Learned to Stop Worrying and Love the Bomb (1963)', 'Babe (1995)', 'To Kill a Mockingbird (1962)', 'Lawrence of Arabia (1962)', 'Annie Hall (1977)', 'This Is Spinal Tap (1984)', 'Streetcar Named Desire, A (1951)', 'Searching for Bobby Fischer (1993)']\n",
      "\n",
      "True Hits in Test Set: ['My Left Foot (1989)', 'Die Hard (1988)', 'Shine (1996)', 'Hoop Dreams (1994)', 'Better Off Dead... (1985)', 'Rear Window (1954)', 'Deer Hunter, The (1978)', 'African Queen, The (1951)', 'Lawrence of Arabia (1962)', 'When Harry Met Sally... (1989)', 'Emma (1996)', 'Patton (1970)', 'Secret of Roan Inish, The (1994)', 'Blues Brothers, The (1980)', 'Forrest Gump (1994)', 'North by Northwest (1959)', 'Substance of Fire, The (1996)', 'Psycho (1960)', 'Game, The (1997)', 'Full Monty, The (1997)', \"It's a Wonderful Life (1946)\", 'Gandhi (1982)', 'Wild Bunch, The (1969)', 'Clueless (1995)', 'Dr. Strangelove or: How I Learned to Stop Worrying and Love the Bomb (1963)', 'Strictly Ballroom (1992)', 'Beauty and the Beast (1991)', 'Leaving Las Vegas (1995)', 'Taxi Driver (1976)', 'Crumb (1994)', 'L.A. Confidential (1997)', 'Get Shorty (1995)']\n",
      "\n",
      "Len : 32\n",
      "\n",
      "Hits: 4\n",
      "\n",
      "Precision@10 for this user is: 40%\n",
      "---------------------------------------------------\n",
      "\n",
      "using Item_based_Matrix : \n",
      "---------------------\n",
      "Recs for User 10: ['Back to the Future (1985)', 'Empire Strikes Back, The (1980)', 'Forrest Gump (1994)', 'Psycho (1960)', 'Fugitive, The (1993)', 'Rear Window (1954)', 'Terminator 2: Judgment Day (1991)', 'Blade Runner (1982)', 'Groundhog Day (1993)', 'Young Frankenstein (1974)']\n",
      "\n",
      "True Hits in Test Set: ['My Left Foot (1989)', 'Die Hard (1988)', 'Shine (1996)', 'Hoop Dreams (1994)', 'Better Off Dead... (1985)', 'Rear Window (1954)', 'Deer Hunter, The (1978)', 'African Queen, The (1951)', 'Lawrence of Arabia (1962)', 'When Harry Met Sally... (1989)', 'Emma (1996)', 'Patton (1970)', 'Secret of Roan Inish, The (1994)', 'Blues Brothers, The (1980)', 'Forrest Gump (1994)', 'North by Northwest (1959)', 'Substance of Fire, The (1996)', 'Psycho (1960)', 'Game, The (1997)', 'Full Monty, The (1997)', \"It's a Wonderful Life (1946)\", 'Gandhi (1982)', 'Wild Bunch, The (1969)', 'Clueless (1995)', 'Dr. Strangelove or: How I Learned to Stop Worrying and Love the Bomb (1963)', 'Strictly Ballroom (1992)', 'Beauty and the Beast (1991)', 'Leaving Las Vegas (1995)', 'Taxi Driver (1976)', 'Crumb (1994)', 'L.A. Confidential (1997)', 'Get Shorty (1995)']\n",
      "\n",
      "Len : 32\n",
      "\n",
      "Hits: 3\n",
      "\n",
      "Precision@10 for this user is: 30%\n",
      "---------------------------------------------------\n",
      "\n"
     ]
    }
   ],
   "source": [
    "get_percision() # user Based\n",
    "get_percision(\"item\")  # item Based"
   ]
  },
  {
   "cell_type": "code",
   "execution_count": null,
   "id": "c7455eea-4d0f-4a6f-92bc-df1f076160db",
   "metadata": {},
   "outputs": [],
   "source": []
  },
  {
   "cell_type": "code",
   "execution_count": null,
   "id": "8b3e62bb-2236-4519-8944-309520661191",
   "metadata": {},
   "outputs": [],
   "source": []
  }
 ],
 "metadata": {
  "kernelspec": {
   "display_name": "Python 3 (ipykernel)",
   "language": "python",
   "name": "python3"
  },
  "language_info": {
   "codemirror_mode": {
    "name": "ipython",
    "version": 3
   },
   "file_extension": ".py",
   "mimetype": "text/x-python",
   "name": "python",
   "nbconvert_exporter": "python",
   "pygments_lexer": "ipython3",
   "version": "3.13.3"
  }
 },
 "nbformat": 4,
 "nbformat_minor": 5
}
